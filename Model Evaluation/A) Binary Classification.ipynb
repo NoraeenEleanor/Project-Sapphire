{
 "cells": [
  {
   "cell_type": "code",
   "execution_count": 1,
   "id": "f2dd28d3",
   "metadata": {},
   "outputs": [
    {
     "name": "stdout",
     "output_type": "stream",
     "text": [
      "<bound method NDFrame.describe of     No   TVD   TT   COH     Qg        Qw   BHFP     DD  EOVS   SPF  Hperf  \\\n",
      "0    1   319  105  22.0   42.3  5672.000  133.2   27.8   651   4.0   14.0   \n",
      "1    2  3182  105  21.9   51.2    68.000  140.4   16.6   642   4.0   16.0   \n",
      "2    3  3366  100  24.7   66.9   157.000  156.2   18.9   601   4.0    6.0   \n",
      "3    4  3647  100  29.6   80.6    85.000  153.8   57.8   670   8.0   20.0   \n",
      "4    5  4548   85  53.2   48.0   886.000  209.1   58.9   823   4.0   18.0   \n",
      "5    6  4088   85  39.5   72.7   116.000  147.0   44.0   781   2.0   17.0   \n",
      "6    7  2100  115  10.8   28.5   724.000  160.1    8.9   300   4.0   15.5   \n",
      "7    8  1930  132   9.7   27.5   695.000  175.5   11.2   245   4.0   11.5   \n",
      "8    9  2139  112  11.1   36.8   280.000  185.5    6.1   283   4.0   10.5   \n",
      "9   10  2380  110  13.0   23.0    42.000  113.0   47.4   413   6.0   11.0   \n",
      "10  11  1122  150   5.7  108.0     0.000  107.0    8.0   115  12.0   10.5   \n",
      "11  12  1340  130   6.6   51.0    52.000  126.6   14.4   140  12.0    6.5   \n",
      "12  13  1070  170   5.5   82.0    70.000  103.8    0.7   111   4.0    9.0   \n",
      "13  14  1920  130   9.6  111.0     0.000  248.0   82.0   153   4.0    9.0   \n",
      "14  15  2530  100  14.3   58.0    68.000  302.2   97.8   242   4.0    4.5   \n",
      "15  16  1640  145   8.0   94.0  1260.000  189.0   46.8   150  12.0   10.0   \n",
      "16  17  2130  120  11.0   86.0   112.000  268.3   31.7   179   4.0    3.5   \n",
      "17  18  3655  100  19.8   69.8  1780.000  287.6    9.1   553   4.0   21.0   \n",
      "18  19  3668  100  30.0   75.8   150.000  272.3    9.2   571   4.0   21.0   \n",
      "19  20  1503  125   7.3  139.5    35.000  152.3    2.2   177   4.0   11.5   \n",
      "20  21  3170  100  21.7   48.0  2823.000  222.1    6.4   485   4.0   16.0   \n",
      "21  22  3197   95  22.1   73.0   273.000  184.6   48.6   535   2.0   12.0   \n",
      "22  23  3230  105  22.6  117.0    68.000  210.0   10.0   517  27.0    4.0   \n",
      "23  24  3684   95  30.3  108.7    36.000  266.6   59.7   581   1.0   12.0   \n",
      "24  25  3005   93  19.5   55.0    91.000   67.0    1.0   615  33.0    4.0   \n",
      "25  26  3790   85  32.5   93.4    77.000  217.2  124.4   654   8.5   12.0   \n",
      "26  27  2750   98  16.5  125.8    75.000  251.8    3.0   372   8.5    4.0   \n",
      "27  28  2983   98  19.2   48.0    28.000  102.0    6.1   581  12.0    4.0   \n",
      "28  29  3175  100  21.8   30.3     1.698  216.1   17.1   492  20.0    4.0   \n",
      "\n",
      "    Sand Production Observed  \n",
      "0                          1  \n",
      "1                          1  \n",
      "2                          1  \n",
      "3                          1  \n",
      "4                          1  \n",
      "5                          1  \n",
      "6                          1  \n",
      "7                          1  \n",
      "8                          1  \n",
      "9                          1  \n",
      "10                         1  \n",
      "11                         1  \n",
      "12                         1  \n",
      "13                         1  \n",
      "14                         1  \n",
      "15                         1  \n",
      "16                         1  \n",
      "17                         1  \n",
      "18                         1  \n",
      "19                         1  \n",
      "20                         1  \n",
      "21                         0  \n",
      "22                         0  \n",
      "23                         0  \n",
      "24                         0  \n",
      "25                         0  \n",
      "26                         0  \n",
      "27                         0  \n",
      "28                         0  >\n"
     ]
    }
   ],
   "source": [
    "# Data Loading and Descriptive Statistics\n",
    "import pandas as pd\n",
    "dataset = pd.read_csv(\"Chapter7_Sand Production.csv\")\n",
    "print(dataset.describe)"
   ]
  },
  {
   "cell_type": "code",
   "execution_count": 2,
   "id": "9b7fe1c9",
   "metadata": {},
   "outputs": [],
   "source": [
    "# Using algorithm \"K-nearest neighbors (KNN)\" to train the model that predicts which well will produce sand.\n",
    "\n",
    "# Define input (x) and target(y)\n",
    "x = dataset.iloc[:,1:11]\n",
    "y = dataset.iloc[:,11].values\n",
    "\n",
    "# Scale input data between 0 and 1 as the data attributes have different ranges.\n",
    "from sklearn.preprocessing import MinMaxScaler\n",
    "sc = MinMaxScaler()\n",
    "xnorm = pd.DataFrame(data = sc.fit_transform(x))\n",
    "\n",
    "# Partition data into test and train\n",
    "import numpy as np\n",
    "seed = 50\n",
    "np.random.seed(seed)\n",
    "from sklearn.model_selection import train_test_split\n",
    "x_train, x_test, y_train, y_test = train_test_split(xnorm, y, test_size = 0.3)\n",
    "\n",
    "# Train binary classifier (k-neighbor) and prediction on train and test data\n",
    "# set\n",
    "from sklearn.neighbors import KNeighborsClassifier\n",
    "KNC = KNeighborsClassifier(n_neighbors = 3, leaf_size = 3)\n",
    "KNC.fit(x_train, y_train)\n",
    "y_train_predict = KNC.predict(x_train)\n",
    "y_test_predict = KNC.predict(x_test)"
   ]
  },
  {
   "cell_type": "code",
   "execution_count": 3,
   "id": "eaaf27b4",
   "metadata": {},
   "outputs": [
    {
     "name": "stdout",
     "output_type": "stream",
     "text": [
      "Accuracy_test: 0.777778\n"
     ]
    }
   ],
   "source": [
    "# Using evaluation metrics of Accuracy (ratio of correct prediction to total prediction)\n",
    "from sklearn.metrics import accuracy_score\n",
    "accuracy_test = accuracy_score(y_test, y_test_predict)\n",
    "print('Accuracy_test: %f' %accuracy_test)"
   ]
  },
  {
   "cell_type": "code",
   "execution_count": 4,
   "id": "1ca6fcdf",
   "metadata": {},
   "outputs": [
    {
     "name": "stdout",
     "output_type": "stream",
     "text": [
      "Precision_test: 0.750000\n"
     ]
    }
   ],
   "source": [
    "# Using evaluation metrics of Precision (if dataset is highly imbalanced, use Precision instead)\n",
    "from sklearn.metrics import precision_score\n",
    "precision_test = precision_score(y_test, y_test_predict)\n",
    "print('Precision_test: %f' %precision_test)\n"
   ]
  },
  {
   "cell_type": "code",
   "execution_count": 5,
   "id": "b82c4e76",
   "metadata": {},
   "outputs": [
    {
     "name": "stdout",
     "output_type": "stream",
     "text": [
      "Recall_test: 1.000000\n"
     ]
    }
   ],
   "source": [
    "# Using evaluation metrics of Recall (identifies the ability of the model to predict POSITIVE values)\n",
    "from sklearn.metrics import recall_score\n",
    "recall_test = recall_score(y_test, y_test_predict)\n",
    "print('Recall_test: %f' %recall_test)"
   ]
  },
  {
   "cell_type": "code",
   "execution_count": 6,
   "id": "0a718608",
   "metadata": {},
   "outputs": [
    {
     "name": "stdout",
     "output_type": "stream",
     "text": [
      "F1 score_train: 0.857143\n"
     ]
    }
   ],
   "source": [
    "# Using evaluation metrics of F1 Score (harmonic mean of Precision and Recall)\n",
    "from sklearn.metrics import f1_score\n",
    "f1_test = f1_score(y_test, y_test_predict)\n",
    "print('F1 score_train: %f' %f1_test)"
   ]
  },
  {
   "cell_type": "code",
   "execution_count": 7,
   "id": "a17e0ebc",
   "metadata": {},
   "outputs": [
    {
     "name": "stdout",
     "output_type": "stream",
     "text": [
      "              precision    recall  f1-score   support\n",
      "\n",
      "           0       1.00      0.33      0.50         3\n",
      "           1       0.75      1.00      0.86         6\n",
      "\n",
      "    accuracy                           0.78         9\n",
      "   macro avg       0.88      0.67      0.68         9\n",
      "weighted avg       0.83      0.78      0.74         9\n",
      "\n"
     ]
    }
   ],
   "source": [
    "# Summary of Classification Report\n",
    "from sklearn.metrics import classification_report\n",
    "print(classification_report(y_test, y_test_predict))"
   ]
  },
  {
   "cell_type": "code",
   "execution_count": 8,
   "id": "7df683b3",
   "metadata": {},
   "outputs": [
    {
     "name": "stdout",
     "output_type": "stream",
     "text": [
      "Cross-validtion scoresL: [0.66666667 1.         1.         0.66666667 1.        ]\n",
      "Average cross-valdation score: 0.8666666666666666\n"
     ]
    }
   ],
   "source": [
    "# Cross-validation for Classification\n",
    "from sklearn.model_selection import cross_val_score\n",
    "scores = cross_val_score(KNC, xnorm, y, cv = 5, scoring = 'accuracy')\n",
    "print(\"Cross-validtion scoresL: {}\". format(scores))\n",
    "print(\"Average cross-valdation score: {}\". format(scores.mean()))"
   ]
  },
  {
   "cell_type": "code",
   "execution_count": 9,
   "id": "b672af5a",
   "metadata": {},
   "outputs": [
    {
     "name": "stdout",
     "output_type": "stream",
     "text": [
      " StratifiedKFold cross-validation scores: [1.         0.83333333 0.83333333 0.83333333 1.        ]\n",
      " Average StratifiedKFold cross-validation score: 0.9\n"
     ]
    }
   ],
   "source": [
    "# Stratified K-fold cross-validation for Classification\n",
    "from sklearn.model_selection import StratifiedKFold\n",
    "skfold = StratifiedKFold(n_splits = 5, shuffle = True, random_state = 100)\n",
    "scoresSK = cross_val_score(KNC, xnorm, y, cv = skfold, scoring = 'accuracy')\n",
    "print(\" StratifiedKFold cross-validation scores: {}\". format(scoresSK))\n",
    "print(\" Average StratifiedKFold cross-validation score: {}\". format(scoresSK.mean()))"
   ]
  },
  {
   "cell_type": "code",
   "execution_count": 10,
   "id": "e88efa6e",
   "metadata": {},
   "outputs": [
    {
     "name": "stdout",
     "output_type": "stream",
     "text": [
      " Cross-validation scores: [0.75 1.   0.75 0.75 0.75]\n",
      " Mean accuracy: 0.8\n"
     ]
    }
   ],
   "source": [
    "from sklearn.model_selection import ShuffleSplit\n",
    "sh_sp = ShuffleSplit(test_size = .25, train_size = .75, n_splits = 5, random_state = 50)\n",
    "scoresSP = cross_val_score(KNC, xnorm, y, cv = sh_sp)\n",
    "print(\" Cross-validation scores: {}\". format(scoresSP))\n",
    "print(\" Mean accuracy: {}\". format(scoresSP.mean()))"
   ]
  },
  {
   "cell_type": "code",
   "execution_count": 11,
   "id": "44521de2",
   "metadata": {},
   "outputs": [
    {
     "name": "stdout",
     "output_type": "stream",
     "text": [
      "iteration: 0 score: 0.8933333333333333 NN: 2 weight: uniform leaf size: 2\n",
      "iteration: 1 score: 0.8933333333333333 NN: 2 weight: uniform leaf size: 3\n",
      "iteration: 2 score: 0.8933333333333333 NN: 2 weight: uniform leaf size: 4\n",
      "iteration: 3 score: 0.9 NN: 2 weight: distance leaf size: 2\n",
      "iteration: 4 score: 0.9 NN: 2 weight: distance leaf size: 3\n",
      "iteration: 5 score: 0.9 NN: 2 weight: distance leaf size: 4\n",
      "iteration: 6 score: 0.8666666666666666 NN: 3 weight: uniform leaf size: 2\n",
      "iteration: 7 score: 0.8666666666666666 NN: 3 weight: uniform leaf size: 3\n",
      "iteration: 8 score: 0.8666666666666666 NN: 3 weight: uniform leaf size: 4\n",
      "iteration: 9 score: 0.8666666666666666 NN: 3 weight: distance leaf size: 2\n",
      "iteration: 10 score: 0.8666666666666666 NN: 3 weight: distance leaf size: 3\n",
      "iteration: 11 score: 0.8666666666666666 NN: 3 weight: distance leaf size: 4\n",
      "iteration: 12 score: 0.7533333333333333 NN: 4 weight: uniform leaf size: 2\n",
      "iteration: 13 score: 0.7533333333333333 NN: 4 weight: uniform leaf size: 3\n",
      "iteration: 14 score: 0.7533333333333333 NN: 4 weight: uniform leaf size: 4\n",
      "iteration: 15 score: 0.8666666666666666 NN: 4 weight: distance leaf size: 2\n",
      "iteration: 16 score: 0.8666666666666666 NN: 4 weight: distance leaf size: 3\n",
      "iteration: 17 score: 0.8666666666666666 NN: 4 weight: distance leaf size: 4\n",
      "iteration: 18 score: 0.8 NN: 5 weight: uniform leaf size: 2\n",
      "iteration: 19 score: 0.8 NN: 5 weight: uniform leaf size: 3\n",
      "iteration: 20 score: 0.8 NN: 5 weight: uniform leaf size: 4\n",
      "iteration: 21 score: 0.8 NN: 5 weight: distance leaf size: 2\n",
      "iteration: 22 score: 0.8 NN: 5 weight: distance leaf size: 3\n",
      "iteration: 23 score: 0.8 NN: 5 weight: distance leaf size: 4\n",
      " Highest score: 0.9\n",
      " Best parameters: {'n_neighbors': 2, 'weights': 'distance', 'leaf_size': 4}\n"
     ]
    }
   ],
   "source": [
    "# Initial grid search of hyperparameter\n",
    "from sklearn.neighbors import KNeighborsClassifier\n",
    "\n",
    "# Define k-nearest neighbor's combination of hyper-parameters\n",
    "highest_score = 0\n",
    "i = 0\n",
    "for n in [2, 3, 4, 5]:\n",
    "    for w in ['uniform', 'distance']:\n",
    "        for l in [2, 3, 4]:\n",
    "# Train a model with each combination of hyper-parameters and calculate the aacuracy\n",
    "            KNCG = KNeighborsClassifier(n_neighbors = n, weights = w, leaf_size = l)\n",
    "            scores = cross_val_score(KNCG, xnorm, y, cv = 5, scoring = 'accuracy')\n",
    "            scoreg = scores.mean()\n",
    "            print(\"iteration:\", i, \"score:\", scoreg, \"NN:\", n, \"weight:\", w, \"leaf size:\", l)\n",
    "            i += 1\n",
    "            \n",
    "            if scoreg >= highest_score:\n",
    "                highest_score = scoreg\n",
    "                best_parameters = {'n_neighbors':n, 'weights':w, 'leaf_size':l}\n",
    "print(\" Highest score:\", (highest_score))\n",
    "print(\" Best parameters:\", format(best_parameters))"
   ]
  },
  {
   "cell_type": "code",
   "execution_count": 12,
   "id": "139a20d9",
   "metadata": {},
   "outputs": [
    {
     "name": "stdout",
     "output_type": "stream",
     "text": [
      "Best n_neighbors: 2\n",
      "Best weights: distance\n",
      "Best leaf_size: 2\n",
      "              precision    recall  f1-score   support\n",
      "\n",
      "           0       1.00      1.00      1.00         8\n",
      "           1       1.00      1.00      1.00        21\n",
      "\n",
      "    accuracy                           1.00        29\n",
      "   macro avg       1.00      1.00      1.00        29\n",
      "weighted avg       1.00      1.00      1.00        29\n",
      "\n"
     ]
    }
   ],
   "source": [
    "# (GridSearchCV) Grid search with cross validation\n",
    "from sklearn.model_selection import GridSearchCV\n",
    "Neighbor = [2, 3, 4, 5]\n",
    "Weight = ['uniform', 'distance']\n",
    "Leaf = [2, 3, 4]\n",
    "hyperparameters = dict(n_neighbors = Neighbor, weights = Weight, leaf_size = Leaf)\n",
    "KNN = KNeighborsClassifier()\n",
    "gridsearch = GridSearchCV(KNN, hyperparameters, cv = 5)\n",
    "Best_Model = gridsearch.fit(xnorm, y)\n",
    "print('Best n_neighbors:', Best_Model.best_estimator_.get_params()['n_neighbors'])\n",
    "print('Best weights:', Best_Model.best_estimator_.get_params()['weights'])\n",
    "print('Best leaf_size:', Best_Model.best_estimator_.get_params()['leaf_size'])\n",
    "B = Best_Model.predict(xnorm)\n",
    "\n",
    "from sklearn.metrics import classification_report\n",
    "print(classification_report(y, B))"
   ]
  },
  {
   "cell_type": "code",
   "execution_count": null,
   "id": "a2d99e9f",
   "metadata": {},
   "outputs": [
    {
     "name": "stdout",
     "output_type": "stream",
     "text": [
      "Best n_neighbors: 2\n",
      "Best weights: distance\n",
      "Best leaf_size: 4\n",
      "              precision    recall  f1-score   support\n",
      "\n",
      "           0       1.00      1.00      1.00         8\n",
      "           1       1.00      1.00      1.00        21\n",
      "\n",
      "    accuracy                           1.00        29\n",
      "   macro avg       1.00      1.00      1.00        29\n",
      "weighted avg       1.00      1.00      1.00        29\n",
      "\n"
     ]
    }
   ],
   "source": [
    "# (RandomizedSearchCV) to search wthin a random set of hyperparameter combinations.\n",
    "from sklearn.model_selection import RandomizedSearchCV\n",
    "Neighbor = [2, 3, 4, 5]\n",
    "Weight = ['uniform', 'distance']\n",
    "Leaf = [2, 3, 4]\n",
    "hyperparameters = dict(n_neighbors = Neighbor, weights = Weight, leaf_size = Leaf)\n",
    "KNN = KNeighborsClassifier()\n",
    "gridsearch_randomized = RandomizedSearchCV(KNN, hyperparameters, n_iter = 12, random_state = 1, cv = 5)\n",
    "Best_Model = gridsearch_randomized.fit(xnorm, y)\n",
    "print('Best n_neighbors:', Best_Model.best_estimator_.get_params()['n_neighbors'])\n",
    "print('Best weights:', Best_Model.best_estimator_.get_params()['weights'])\n",
    "print('Best leaf_size:', Best_Model.best_estimator_.get_params()['leaf_size'])\n",
    "BRG = Best_Model.predict(xnorm)\n",
    "\n",
    "from sklearn.metrics import classification_report\n",
    "print(classification_report(y, BRG))"
   ]
  },
  {
   "cell_type": "code",
   "execution_count": null,
   "id": "b1639869",
   "metadata": {},
   "outputs": [],
   "source": []
  }
 ],
 "metadata": {
  "kernelspec": {
   "display_name": "yohanesenv",
   "language": "python",
   "name": "python3"
  },
  "language_info": {
   "codemirror_mode": {
    "name": "ipython",
    "version": 3
   },
   "file_extension": ".py",
   "mimetype": "text/x-python",
   "name": "python",
   "nbconvert_exporter": "python",
   "pygments_lexer": "ipython3",
   "version": "3.10.13"
  }
 },
 "nbformat": 4,
 "nbformat_minor": 5
}
